{
  "cells": [
    {
      "cell_type": "code",
      "execution_count": null,
      "metadata": {
        "id": "0I8nOyvu_ox_"
      },
      "outputs": [],
      "source": [
        "!pip install gradio\n",
        "!pip install langchain\n",
        "!pip install langchain_community\n",
        "!pip install langchain_milvus\n",
        "!pip install transformers pymilvus\n"
      ]
    },
    {
      "cell_type": "code",
      "execution_count": null,
      "metadata": {
        "id": "HiUR_dLw_vPZ"
      },
      "outputs": [],
      "source": [
        "!pip install replicate"
      ]
    },
    {
      "cell_type": "code",
      "execution_count": null,
      "metadata": {
        "id": "7MXmW7PdARFX"
      },
      "outputs": [],
      "source": [
        "!pip install sentence-transformers"
      ]
    },
    {
      "cell_type": "code",
      "source": [
        "!pip install langchain-milvus"
      ],
      "metadata": {
        "id": "YaZPcSGGrzfy"
      },
      "execution_count": null,
      "outputs": []
    },
    {
      "cell_type": "code",
      "source": [
        "!pip install langchain_community"
      ],
      "metadata": {
        "id": "gLUce2zmr9Ul"
      },
      "execution_count": null,
      "outputs": []
    },
    {
      "cell_type": "code",
      "execution_count": null,
      "metadata": {
        "id": "ZgRcy-__BqSN"
      },
      "outputs": [],
      "source": [
        "import os\n",
        "import gradio as gr\n",
        "import tempfile\n",
        "from langchain_milvus import Milvus\n",
        "from langchain_community.llms import Replicate\n",
        "from langchain_community.document_loaders import TextLoader\n",
        "from langchain.text_splitter import CharacterTextSplitter\n",
        "from transformers import AutoTokenizer\n",
        "from langchain.prompts import PromptTemplate\n",
        "from langchain.chains import RetrievalQA, LLMChain\n",
        "from langchain.chains.combine_documents.stuff import StuffDocumentsChain\n",
        "from langchain_community.embeddings import HuggingFaceEmbeddings\n",
        "\n",
        "# Replicate token and model setup\n",
        "os.environ['REPLICATE_API_TOKEN'] = \"Your_REPLICATE_API_TOKEN\" #You can create it for free on https://replicate.com/account/api-tokens\n",
        "model_path = \"ibm-granite/granite-3.3-8b-instruct\"\n",
        "tokenizer = AutoTokenizer.from_pretrained(model_path)\n",
        "model = Replicate(model=model_path, replicate_api_token=os.environ['REPLICATE_API_TOKEN'])\n",
        "\n",
        "# 📦 Temporary Milvus DB\n",
        "db_file = tempfile.NamedTemporaryFile(prefix=\"milvus_\", suffix=\".db\", delete=False).name\n",
        "embeddings = HuggingFaceEmbeddings(model_name=\"all-MiniLM-L6-v2\")\n",
        "\n",
        "vector_db = Milvus(\n",
        "    embedding_function=embeddings,\n",
        "    connection_args={\"uri\": db_file},\n",
        "    auto_id=True,\n",
        "    index_params={\"index_type\": \"AUTOINDEX\"},\n",
        ")\n",
        "\n",
        "# 📄 Financial Literacy Content\n",
        "filename = \"finance_literacy.txt\"\n",
        "with open(filename, \"w\") as f:\n",
        "    f.write(\"\"\"\n",
        "UPI: Unified Payments Interface (UPI) is a real-time payment system developed by NPCI. It allows users to link bank accounts and make instant money transfers via mobile.\n",
        "\n",
        "Avoiding Online Scams: Never share your OTP, UPI PIN, or passwords. Beware of links promising free rewards. Use official banking apps only.\n",
        "\n",
        "Interest Rates: Interest is the cost of borrowing money. Loans usually have an interest rate. Compare rates from different banks before applying.\n",
        "\n",
        "Budgeting: Create a monthly budget by listing your income and expenses. Prioritize needs over wants. Track your spending to save money.\n",
        "\n",
        "Digital Wallets: Apps like PhonePe, Google Pay, Paytm allow you to pay bills, recharge, and send money securely.\n",
        "\n",
        "Safe Loan Practices: Always read terms before taking a loan. Choose loans with lower interest and no hidden fees.\n",
        "\n",
        "How to use BHIM app: Download, register with your mobile number linked to your bank, set UPI PIN, and start sending or requesting money.\n",
        "\n",
        "Fraud Protection: Use two-factor authentication. Don’t save card details on unknown websites. Report suspicious activity to your bank immediately.Explain about How to use Phone pe. Explain Google pay also\n",
        "\"\"\")\n",
        "\n",
        "# Load & Split Content\n",
        "loader = TextLoader(filename)\n",
        "documents = loader.load()\n",
        "splitter = CharacterTextSplitter.from_huggingface_tokenizer(\n",
        "    tokenizer=tokenizer,\n",
        "    chunk_size=tokenizer.model_max_length // 2,\n",
        "    chunk_overlap=0,\n",
        ")\n",
        "texts = splitter.split_documents(documents)\n",
        "for i, doc in enumerate(texts):\n",
        "    doc.metadata[\"doc_id\"] = i + 1\n",
        "vector_db.add_documents(texts)\n",
        "\n",
        "#  Financial Literacy Prompt\n",
        "template = \"\"\"\n",
        "You are a helpful Digital Financial Literacy Assistant.\n",
        "User Question: {question}\n",
        "Give a simple, culturally-inclusive explanation in easy language.\n",
        "Include tips to stay safe, explain tools like UPI, wallets, loans, interest, scams, budgeting.\n",
        "\"\"\"\n",
        "prompt = PromptTemplate(template=template, input_variables=[\"question\"])\n",
        "\n",
        "# Chains\n",
        "llm_chain = LLMChain(llm=model, prompt=prompt)\n",
        "combine_chain = StuffDocumentsChain(llm_chain=llm_chain)\n",
        "\n",
        "rag_chain = RetrievalQA(\n",
        "    retriever=vector_db.as_retriever(),\n",
        "    combine_documents_chain=combine_chain,\n",
        "    return_source_documents=False\n",
        ")\n",
        "\n",
        "#  Gradio Interface\n",
        "def ask_finance_agent(query):\n",
        "    try:\n",
        "        response = rag_chain.run(query)\n",
        "        return response\n",
        "    except Exception as e:\n",
        "        return f\"❌ Error: {str(e)}\"\n",
        "\n",
        "iface = gr.Interface(\n",
        "    fn=ask_finance_agent,\n",
        "    inputs=gr.Textbox(label=\"Ask a question about digital finance\", placeholder=\"e.g. How to use UPI?\"),\n",
        "    outputs=gr.Textbox(label=\"Answer\"),\n",
        "    title=\"AI Agent for Digital Financial Literacy\",\n",
        "    description=\"Ask about UPI, loans, scams, budgeting, and digital tools. This assistant helps you stay safe and informed.\",\n",
        "    theme=\"default\"\n",
        ")\n",
        "\n",
        "iface.launch(share=True)\n"
      ]
    }
  ],
  "metadata": {
    "accelerator": "GPU",
    "colab": {
      "gpuType": "T4",
      "provenance": [],
      "private_outputs": true
    },
    "kernelspec": {
      "display_name": "Python [conda env:base] *",
      "language": "python",
      "name": "conda-base-py"
    },
    "language_info": {
      "codemirror_mode": {
        "name": "ipython",
        "version": 3
      },
      "file_extension": ".py",
      "mimetype": "text/x-python",
      "name": "python",
      "nbconvert_exporter": "python",
      "pygments_lexer": "ipython3",
      "version": "3.12.7"
    }
  },
  "nbformat": 4,
  "nbformat_minor": 0
}